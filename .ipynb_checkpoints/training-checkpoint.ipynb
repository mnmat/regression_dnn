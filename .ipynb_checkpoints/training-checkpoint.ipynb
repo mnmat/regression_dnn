{
 "cells": [
  {
   "cell_type": "code",
   "execution_count": 1,
   "id": "1de44ca4-2eae-40d8-b139-cb1d44f3ebf0",
   "metadata": {},
   "outputs": [
    {
     "name": "stderr",
     "output_type": "stream",
     "text": [
      "/opt/homebrew/Caskroom/miniforge/base/envs/EgammaDNN/lib/python3.12/site-packages/tqdm/auto.py:21: TqdmWarning: IProgress not found. Please update jupyter and ipywidgets. See https://ipywidgets.readthedocs.io/en/stable/user_install.html\n",
      "  from .autonotebook import tqdm as notebook_tqdm\n"
     ]
    }
   ],
   "source": [
    "import os\n",
    "import torch\n",
    "from torch import nn\n",
    "from torch.utils.data import DataLoader\n",
    "from torchvision import datasets, transforms\n",
    "\n",
    "import uproot\n",
    "\n",
    "import numpy as np\n",
    "import pandas as pd\n",
    "import awkward as ak\n",
    "import time\n",
    "import matplotlib.pyplot as plt\n",
    "\n",
    "from utils.datasets import *\n",
    "from utils.training import *\n",
    "from models.models import *"
   ]
  },
  {
   "cell_type": "code",
   "execution_count": 2,
   "id": "670c6a1b-da4d-4785-8985-63fafd91b925",
   "metadata": {},
   "outputs": [],
   "source": [
    "# Data Preprocessing\n",
    "\n",
    "root = \"/Users/markmatthewman/Projects/PhD/EgammaDNN/data/GenSim/TICLv4_Mustache/electron\"\n",
    "fname = \"HLTAnalyzerTree_IDEAL_Flat_train.root\"\n",
    "tree = \"egRegDataEcalHLTV1\"\n",
    "batches = 256\n",
    "\n",
    "dataset = RegressionDataset(root,fname,tree)\n",
    "dataloader = DataLoader(dataset,batch_size=batches,shuffle=True)"
   ]
  },
  {
   "cell_type": "code",
   "execution_count": 3,
   "id": "1c064d15-2a32-4f54-ae53-5a947ea4543b",
   "metadata": {},
   "outputs": [],
   "source": [
    "# Set Trainer \n",
    "\n",
    "lr = 0.001\n",
    "device = torch.device(\"cpu\")\n",
    "\n",
    "# Select Model\n",
    "model = RegressionDNN(7)\n",
    "model.to(device)\n",
    "\n",
    "# Select Loss function\n",
    "loss_fn = nn.MSELoss()\n",
    "\n",
    "# Select optimiser\n",
    "optimizer = torch.optim.Adam(model.parameters(),lr=lr)\n",
    "\n",
    "# Initialize Trainer\n",
    "trainer = Trainer(model, loss_fn, dataloader, optimizer)\n"
   ]
  },
  {
   "cell_type": "code",
   "execution_count": 4,
   "id": "32176049-e1c8-4040-898b-e62a3f043228",
   "metadata": {},
   "outputs": [
    {
     "name": "stdout",
     "output_type": "stream",
     "text": [
      "########## Epoch 0\n"
     ]
    },
    {
     "name": "stderr",
     "output_type": "stream",
     "text": [
      "  0%|                                                  | 0/3802 [00:00<?, ?it/s]/opt/homebrew/Caskroom/miniforge/base/envs/EgammaDNN/lib/python3.12/site-packages/torch/distributions/distribution.py:57: UserWarning: <class 'models.double_sided_crystal_ball.DoubleSidedCrystalBall'> does not define `arg_constraints`. Please set `arg_constraints = {}` or initialize the distribution with `validate_args=False` to turn off validation.\n",
      "  warnings.warn(\n",
      "  0%|                                                  | 0/3802 [00:00<?, ?it/s]"
     ]
    },
    {
     "name": "stdout",
     "output_type": "stream",
     "text": [
      "torch.Size([256, 1])\n"
     ]
    },
    {
     "name": "stderr",
     "output_type": "stream",
     "text": [
      "\n"
     ]
    },
    {
     "ename": "NameError",
     "evalue": "name 'logprob' is not defined",
     "output_type": "error",
     "traceback": [
      "\u001b[31m---------------------------------------------------------------------------\u001b[39m",
      "\u001b[31mNameError\u001b[39m                                 Traceback (most recent call last)",
      "\u001b[36mCell\u001b[39m\u001b[36m \u001b[39m\u001b[32mIn[4]\u001b[39m\u001b[32m, line 3\u001b[39m\n\u001b[32m      1\u001b[39m \u001b[38;5;66;03m# Training\u001b[39;00m\n\u001b[32m----> \u001b[39m\u001b[32m3\u001b[39m \u001b[43mtrainer\u001b[49m\u001b[43m.\u001b[49m\u001b[43mfull_train\u001b[49m\u001b[43m(\u001b[49m\u001b[32;43m20\u001b[39;49m\u001b[43m)\u001b[49m\n",
      "\u001b[36mFile \u001b[39m\u001b[32m~/Projects/PhD/EgammaDNN/utils/training.py:39\u001b[39m, in \u001b[36mTrainer.full_train\u001b[39m\u001b[34m(self, nepochs)\u001b[39m\n\u001b[32m     37\u001b[39m \u001b[38;5;28;01mfor\u001b[39;00m epoch \u001b[38;5;129;01min\u001b[39;00m \u001b[38;5;28mrange\u001b[39m(nepochs):\n\u001b[32m     38\u001b[39m     \u001b[38;5;28mprint\u001b[39m(\u001b[33m\"\u001b[39m\u001b[33m########## Epoch \u001b[39m\u001b[33m\"\u001b[39m + \u001b[38;5;28mstr\u001b[39m(epoch))\n\u001b[32m---> \u001b[39m\u001b[32m39\u001b[39m     \u001b[38;5;28;43mself\u001b[39;49m\u001b[43m.\u001b[49m\u001b[43mtrain_loop\u001b[49m\u001b[43m(\u001b[49m\u001b[43m)\u001b[49m\n\u001b[32m     40\u001b[39m     \u001b[38;5;28;01mif\u001b[39;00m \u001b[38;5;28mself\u001b[39m.scheduler \u001b[38;5;129;01mis\u001b[39;00m \u001b[38;5;129;01mnot\u001b[39;00m \u001b[38;5;28;01mNone\u001b[39;00m:\n\u001b[32m     41\u001b[39m         \u001b[38;5;28mself\u001b[39m.scheduler.step()\n",
      "\u001b[36mFile \u001b[39m\u001b[32m~/Projects/PhD/EgammaDNN/utils/training.py:26\u001b[39m, in \u001b[36mTrainer.train_loop\u001b[39m\u001b[34m(self)\u001b[39m\n\u001b[32m     24\u001b[39m \u001b[38;5;28mprint\u001b[39m(tgt.shape)\n\u001b[32m     25\u001b[39m logprog = \u001b[38;5;28mself\u001b[39m.model.log_prob(tgt,inpt)\n\u001b[32m---> \u001b[39m\u001b[32m26\u001b[39m loss = -\u001b[43mlogprob\u001b[49m.mean()\n\u001b[32m     28\u001b[39m \u001b[38;5;66;03m# Backpropagation\u001b[39;00m\n\u001b[32m     29\u001b[39m loss.backward()\n",
      "\u001b[31mNameError\u001b[39m: name 'logprob' is not defined"
     ]
    }
   ],
   "source": [
    "# Training\n",
    "\n",
    "trainer.full_train(20)"
   ]
  },
  {
   "cell_type": "code",
   "execution_count": null,
   "id": "50740207-71af-4889-ac2a-270585794c25",
   "metadata": {},
   "outputs": [],
   "source": [
    "def create_dir(directory):\n",
    "    if not os.path.exists(directory):\n",
    "        os.makedirs(directory)\n",
    "\n",
    "outdir = \"saved_models/v1\"\n",
    "create_dir(outdir)\n",
    "fname = \"v1\"\n",
    "trainer.save(os.path.join(outdir,fname))"
   ]
  },
  {
   "cell_type": "code",
   "execution_count": null,
   "id": "a5b81b2e-74dc-4372-9b36-54167e463b16",
   "metadata": {},
   "outputs": [],
   "source": []
  },
  {
   "cell_type": "code",
   "execution_count": null,
   "id": "e3ad58f3-2d95-476c-89fe-3d20608e2eaf",
   "metadata": {},
   "outputs": [],
   "source": []
  },
  {
   "cell_type": "code",
   "execution_count": null,
   "id": "6aa346dd-f816-484e-b307-b6eb4851a3fd",
   "metadata": {},
   "outputs": [],
   "source": []
  }
 ],
 "metadata": {
  "kernelspec": {
   "display_name": "Python 3 (ipykernel)",
   "language": "python",
   "name": "python3"
  },
  "language_info": {
   "codemirror_mode": {
    "name": "ipython",
    "version": 3
   },
   "file_extension": ".py",
   "mimetype": "text/x-python",
   "name": "python",
   "nbconvert_exporter": "python",
   "pygments_lexer": "ipython3",
   "version": "3.12.10"
  }
 },
 "nbformat": 4,
 "nbformat_minor": 5
}
